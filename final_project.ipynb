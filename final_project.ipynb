{
 "cells": [
  {
   "cell_type": "code",
   "execution_count": 1267,
   "metadata": {},
   "outputs": [],
   "source": [
    "import os\n",
    "import numpy as np\n",
    "import scipy as sp\n",
    "import sounddevice as sd\n",
    "from audiolazy import lpc\n",
    "import scipy.signal as sig\n",
    "import scipy.io.wavfile as wav\n",
    "from matplotlib import pyplot as plt\n",
    "from sklearn.neural_network import MLPClassifier\n",
    "%matplotlib inline\n",
    "\n",
    "from keras.models import Sequential\n",
    "from keras.layers import Dense, Activation\n",
    "from keras import optimizers\n",
    "\n",
    "from peakutils import peak"
   ]
  },
  {
   "cell_type": "code",
   "execution_count": 1281,
   "metadata": {},
   "outputs": [],
   "source": [
    "class DatasetVowels:\n",
    "    def __init__(self):\n",
    "        \n",
    "        vowels = {'a':[], 'e':[], 'i':[], 'o':[], 'u':[]}\n",
    "        for v in vowels.keys():\n",
    "            path, dirs, files = next(os.walk(\"./dataset/\"+v))\n",
    "            for f in files:\n",
    "                if f.endswith('.wav'):\n",
    "                    vowels[v].append(wav.read('./dataset/'+v+'/'+f))\n",
    "        \n",
    "        \n",
    "        self.data = vowels\n",
    "        \n",
    "        vowels = {'a':[], 'e':[], 'i':[], 'o':[], 'u':[]}\n",
    "        for v in vowels.keys():\n",
    "            path, dirs, files = next(os.walk(\"./test_dataset/\"+v))\n",
    "            for f in files:\n",
    "                if f.endswith('.wav'):\n",
    "                    vowels[v].append(wav.read('./test_dataset/'+v+'/'+f))\n",
    "        \n",
    "        self.test = vowels\n",
    "        self.max_value = (2**16)/2\n",
    "        self.min_value = -(((2**16)-1)/2)\n",
    "        \n",
    "    def normalized(self, vowel='a'):\n",
    "        n = []\n",
    "        for data_v in self.data[vowel]:\n",
    "            raw_data = data_v[1]\n",
    "            n.append((raw_data.astype('float') - self.min_value)/(self.max_value - self.min_value))\n",
    "        return n\n",
    "    \n",
    "    def get_envolpe(self, base='base', nw=120):\n",
    "        formants = {}\n",
    "        \n",
    "        if base=='base':\n",
    "            data = self.data\n",
    "        else:\n",
    "            data = self.test\n",
    "        \n",
    "        for vowel in ['a', 'e', 'i', 'o', 'u']:\n",
    "            vowel_formants = []\n",
    "            \n",
    "            for i in range(len(data[vowel])):\n",
    "\n",
    "                v = data[vowel][i][1]\n",
    "\n",
    "                N = nw\n",
    "                x = v\n",
    "                \n",
    "                x = np.fft.fft(x, 2000)\n",
    "                x = np.fft.fftshift(x)\n",
    "                x = np.abs(x)\n",
    "                f = np.ones((N,))/N\n",
    "\n",
    "                f[0:int(N/2)] = np.linspace(0, 1./N, N/2)\n",
    "                f[int(N/2):] = np.linspace(1./N, 0, N/2)\n",
    "\n",
    "                lpc = np.convolve(x, f, mode='valid')\n",
    "                \n",
    "                vowel_formants.append(lpc)\n",
    "            formants[vowel] = vowel_formants\n",
    "        return formants\n",
    "    \n",
    "    def get_formants(self, base='base', grade=8, how=2):\n",
    "        nn = 0\n",
    "        if base == 'base':\n",
    "            formants = np.zeros((40, how))\n",
    "            dataset = self.data\n",
    "        else:\n",
    "            formants = np.zeros((75, how))\n",
    "            dataset = self.test\n",
    "        \n",
    "        for v in ['a', 'e', 'i', 'o', 'u']:\n",
    "            for index in range(len(dataset[v])):\n",
    "                x = dataset[v][index][1]\n",
    "                max_value = (2**16)/2\n",
    "                min_value = -(((2**16)-1)/2)\n",
    "\n",
    "                x = (x.astype('float') - min_value)/(max_value - min_value)\n",
    "\n",
    "                x = x * np.hamming(len(x))\n",
    "                pref = np.array([1, .63])\n",
    "\n",
    "                x = np.convolve(x, pref)\n",
    "\n",
    "                flt = lpc.acorr(x, grade)\n",
    "\n",
    "                rts = np.roots(flt.numerator)\n",
    "                rts = rts[np.imag(rts)>0]\n",
    "\n",
    "                args = np.argsort(np.angle(rts) * (Fs/(2*np.pi)))\n",
    "\n",
    "                frqs = np.sort(np.angle(rts) * (Fs/(2*np.pi)))\n",
    "                \n",
    "                sd = frqs[:how]\n",
    "                # sd = np.array([frqs[0], frqs[1], frqs[2], frqs[3]])\n",
    "\n",
    "                formants[nn, :] = sd\n",
    "                nn += 1\n",
    "        return formants\n",
    "    \n",
    "    def get_peaks(self, base='base', how=2):\n",
    "        nn = 0\n",
    "        Fs = 8000\n",
    "        if base == 'base':\n",
    "            peaks = np.zeros((40, how))\n",
    "            dataset = self.data\n",
    "        else:\n",
    "            peaks = np.zeros((75, how))\n",
    "            dataset = self.test\n",
    "        \n",
    "        for v in ['a', 'e', 'i', 'o', 'u']:\n",
    "            for index in range(len(dataset[v])):\n",
    "                x = dataset[v][index][1]\n",
    "                x = (x.astype('float') - min_value)/(max_value - min_value)\n",
    "                x = np.fft.fft(dataset[v][index][1])\n",
    "                x = np.fft.fftshift(x)\n",
    "                x = np.abs(x)\n",
    "                x = x[int(len(x)/2):]\n",
    "                \n",
    "                frq = np.linspace(0, Fs/2, len(x))\n",
    "                \n",
    "                p = sig.find_peaks_cwt(x, np.arange(1, 100))\n",
    "                \n",
    "                pks = np.argsort(x[p])[::-1]\n",
    "                peaks[nn, :] = frq[pks][:how]\n",
    "                nn += 1\n",
    "                \n",
    "        return peaks\n",
    "       \n",
    "    def get_training_set(self):\n",
    "        peaks = dataset.get_peaks(base='base', how=2)\n",
    "        formants = dataset.get_formants(base='base', grade=8, how=2)\n",
    "        dataset_train = np.concatenate((formants, peaks), axis=1)\n",
    "        N=8\n",
    "        labels = [[1,0,0,0,0]]*N + [[0,1,0,0,0]]*N + [[0,0,1,0,0]]*N + \\\n",
    "                 [[0,0,0,1,0]]*N + [[0,0,0,0,1]]*N\n",
    "        labels = np.asarray(labels)\n",
    "        \n",
    "        return dataset_train, labels\n",
    "    def get_testing_set(self):\n",
    "        peaks = dataset.get_peaks(base='test', how=2)\n",
    "        formants = dataset.get_formants(base='test', grade=8, how=2)\n",
    "        dataset_train = np.concatenate((formants, peaks), axis=1)\n",
    "        N=15\n",
    "        labels = [[1,0,0,0,0]]*N + [[0,1,0,0,0]]*N + [[0,0,1,0,0]]*N + \\\n",
    "                 [[0,0,0,1,0]]*N + [[0,0,0,0,1]]*N\n",
    "        labels = np.asarray(labels)\n",
    "        \n",
    "        return dataset_train, labels\n",
    "    \n",
    "    \n",
    "def signal2mat(signal, p):\n",
    "    a1 = signal\n",
    "    a1 = a1*2**p\n",
    "    a1 = a1.astype('int')\n",
    "\n",
    "    ma1 = (((a1[:,None] & (1 << np.arange(p)))) > 0).astype(int)\n",
    "    return ma1"
   ]
  },
  {
   "cell_type": "code",
   "execution_count": 1282,
   "metadata": {},
   "outputs": [
    {
     "name": "stderr",
     "output_type": "stream",
     "text": [
      "/usr/local/lib/python3.6/site-packages/scipy/io/wavfile.py:273: WavFileWarning: Chunk (non-data) not understood, skipping it.\n",
      "  WavFileWarning)\n"
     ]
    }
   ],
   "source": [
    "dataset = DatasetVowels()"
   ]
  },
  {
   "cell_type": "code",
   "execution_count": 1283,
   "metadata": {},
   "outputs": [
    {
     "data": {
      "image/png": "[encoded data removed]",
      "text/plain": [
       "<matplotlib.figure.Figure at 0x14a0e5518>"
      ]
     },
     "metadata": {},
     "output_type": "display_data"
    }
   ],
   "source": [
    "peaks = dataset.get_peaks(base='test', how=2)\n",
    "ratio = int(len(peaks)/5)\n",
    "colors_c = {\n",
    "    'a': 0.1,\n",
    "    'e': 0.3,\n",
    "    'i': 0.5,\n",
    "    'o': 0.7,\n",
    "    'u': 0.9\n",
    "}\n",
    "colors = np.zeros((len(peaks), )).astype('str')\n",
    "colors[0:ratio].fill(colors_c['a'])\n",
    "colors[ratio:ratio*2].fill(colors_c['e'])\n",
    "colors[ratio*2:ratio*3].fill(colors_c['i'])\n",
    "colors[ratio*3:ratio*4].fill(colors_c['o'])\n",
    "colors[ratio*4:].fill(colors_c['u'])\n",
    "\n",
    "plt.scatter(peaks[:, 0], peaks[:, 1], c=colors)\n",
    "plt.grid()"
   ]
  },
  {
   "cell_type": "code",
   "execution_count": 1028,
   "metadata": {},
   "outputs": [
    {
     "data": {
      "image/png": "[encoded data removed]",
      "text/plain": [
       "<matplotlib.figure.Figure at 0x143cc62b0>"
      ]
     },
     "metadata": {},
     "output_type": "display_data"
    }
   ],
   "source": [
    "formants = dataset.get_formants(base='test', grade=8, how=2)\n",
    "ratio = int(len(formants)/5)\n",
    "colors_c = {\n",
    "    'a': 0.1,\n",
    "    'e': 0.3,\n",
    "    'i': 0.5,\n",
    "    'o': 0.7,\n",
    "    'u': 0.9\n",
    "}\n",
    "colors = np.zeros((len(formants), )).astype('str')\n",
    "colors[0:ratio].fill(colors_c['a'])\n",
    "colors[ratio:ratio*2].fill(colors_c['e'])\n",
    "colors[ratio*2:ratio*3].fill(colors_c['i'])\n",
    "colors[ratio*3:ratio*4].fill(colors_c['o'])\n",
    "colors[ratio*4:].fill(colors_c['u'])\n",
    "\n",
    "plt.scatter(formants[:, 0], formants[:, 1], c=colors)\n",
    "plt.grid()"
   ]
  },
  {
   "cell_type": "code",
   "execution_count": 1035,
   "metadata": {},
   "outputs": [],
   "source": [
    "X_train, Y_train = dataset.get_training_set()\n",
    "X_test, Y_test = dataset.get_testing_set()"
   ]
  },
  {
   "cell_type": "code",
   "execution_count": 1152,
   "metadata": {},
   "outputs": [],
   "source": [
    "model = Sequential([\n",
    "    Dense(200, input_shape=(4,)),\n",
    "    Activation('sigmoid'),\n",
    "    Dense(500),\n",
    "    Activation('sigmoid'),\n",
    "    Dense(100),\n",
    "    Activation('sigmoid'),\n",
    "    Dense(200),\n",
    "    Activation('sigmoid'),\n",
    "    Dense(100),\n",
    "    Activation('sigmoid'),\n",
    "    Dense(5),\n",
    "    Activation('softmax'),\n",
    "])\n",
    "\n",
    "adam = optimizers.Adagrad(lr=0.001)\n",
    "\n",
    "model.compile(optimizer=adam,\n",
    "              loss='mse',\n",
    "              metrics=['accuracy'])"
   ]
  },
  {
   "cell_type": "code",
   "execution_count": 1153,
   "metadata": {},
   "outputs": [],
   "source": [
    "hist = model.fit(X_train, Y_train, epochs=10000, batch_size=30, verbose=0)"
   ]
  },
  {
   "cell_type": "code",
   "execution_count": 1154,
   "metadata": {},
   "outputs": [
    {
     "name": "stdout",
     "output_type": "stream",
     "text": [
      "40/40 [==============================] - 1s 22ms/step\n"
     ]
    },
    {
     "data": {
      "text/plain": [
       "[0.071127648651599887, 0.82499999999999996]"
      ]
     },
     "execution_count": 1154,
     "metadata": {},
     "output_type": "execute_result"
    }
   ],
   "source": [
    "model.evaluate(X_train, Y_train)"
   ]
  },
  {
   "cell_type": "code",
   "execution_count": 1155,
   "metadata": {},
   "outputs": [
    {
     "name": "stdout",
     "output_type": "stream",
     "text": [
      "75/75 [==============================] - 0s 189us/step\n"
     ]
    },
    {
     "data": {
      "text/plain": [
       "[0.086502257585525516, 0.71999999920527136]"
      ]
     },
     "execution_count": 1155,
     "metadata": {},
     "output_type": "execute_result"
    }
   ],
   "source": [
    "model.evaluate(X_test, Y_test)"
   ]
  },
  {
   "cell_type": "code",
   "execution_count": 1156,
   "metadata": {},
   "outputs": [
    {
     "data": {
      "image/png": "[encoded data removed]",
      "text/plain": [
       "<matplotlib.figure.Figure at 0x14b508198>"
      ]
     },
     "metadata": {},
     "output_type": "display_data"
    }
   ],
   "source": [
    "plt.plot(hist.history['loss'])\n",
    "plt.grid()"
   ]
  },
  {
   "cell_type": "code",
   "execution_count": 1157,
   "metadata": {},
   "outputs": [
    {
     "data": {
      "image/png": "[encoded data removed]",
      "text/plain": [
       "<matplotlib.figure.Figure at 0x14a7bb9e8>"
      ]
     },
     "metadata": {},
     "output_type": "display_data"
    }
   ],
   "source": [
    "plt.plot(hist.history['acc'], 'r')\n",
    "plt.grid()"
   ]
  },
  {
   "cell_type": "code",
   "execution_count": 1170,
   "metadata": {},
   "outputs": [],
   "source": [
    "def get_one_hot(pred):\n",
    "    onehot = np.zeros_like(pred)\n",
    "    for i in range(len(pred)):\n",
    "        a = np.zeros_like(pred[i, :])\n",
    "        a[np.argmax(pred[i, :])] = 1\n",
    "        onehot[i, :] = a \n",
    "    return onehot"
   ]
  },
  {
   "cell_type": "code",
   "execution_count": 1204,
   "metadata": {},
   "outputs": [],
   "source": [
    "p = model.predict(X_test)"
   ]
  },
  {
   "cell_type": "code",
   "execution_count": 1346,
   "metadata": {},
   "outputs": [],
   "source": [
    "def predict_vowel():\n",
    "    import sounddevice as sd\n",
    "    import time\n",
    "    \n",
    "    print(\"3\")\n",
    "    time.sleep(1)\n",
    "    print(\"2\")\n",
    "    time.sleep(1)\n",
    "    print(\"1\")\n",
    "    \n",
    "    duration = 1.0\n",
    "    print(f\"Tienes {duration} segundos...\")\n",
    "    sd.default.device = 0\n",
    "    f = 8000\n",
    "    \n",
    "    record = sd.rec(int(duration * fs), samplerate=fs, channels=1)\n",
    "    time.sleep(2)\n",
    "    print(\"Analizando...\")\n",
    "    \n",
    "    grade = 8\n",
    "    how = 2\n",
    "    \n",
    "    start = time.time()\n",
    "    x = record.T.reshape((-1, ))\n",
    "    max_value = (2**16)/2\n",
    "    min_value = -(((2**16)-1)/2)\n",
    "\n",
    "    x = (x.astype('float') - min_value)/(max_value - min_value)\n",
    "\n",
    "    x = x * np.hamming(len(x))\n",
    "    pref = np.array([1, .63])\n",
    "\n",
    "    x = np.convolve(x, pref)\n",
    "\n",
    "    flt = lpc.acorr(x, grade)\n",
    "\n",
    "    rts = np.roots(flt.numerator)\n",
    "    rts = rts[np.imag(rts)>0]\n",
    "\n",
    "    args = np.argsort(np.angle(rts) * (Fs/(2*np.pi)))\n",
    "\n",
    "    frqs = np.sort(np.angle(rts) * (Fs/(2*np.pi)))\n",
    "\n",
    "    sdx = frqs[:how]\n",
    "    # sd = np.array([frqs[0], frqs[1], frqs[2], frqs[3]])\n",
    "\n",
    "    formants = sdx\n",
    "    \n",
    "    x = record\n",
    "    x = record.T.reshape((-1, ))\n",
    "    x = (x.astype('float') - min_value)/(max_value - min_value)\n",
    "    \n",
    "    x = np.fft.fft(x)\n",
    "    x = np.fft.fftshift(x)\n",
    "    x = np.abs(x)\n",
    "    x = x[int(len(x)/2):]\n",
    "\n",
    "    frq = np.linspace(0, Fs/2, len(x))\n",
    "\n",
    "    p = sig.find_peaks_cwt(x, np.arange(1, 100))\n",
    "\n",
    "    pks = np.argsort(x[p])[::-1]\n",
    "    peaks = frq[pks][:how]\n",
    "        \n",
    "    features = np.array([[formants[0], formants[1], peaks[0], peaks[1]]]).reshape((-1,4))\n",
    "    \n",
    "    r = model.predict(features)\n",
    "    \n",
    "    end_ = time.time()\n",
    "\n",
    "    print(r)\n",
    "    supp = np.zeros_like(r)\n",
    "    supp[0,np.argmax(r)] = 1\n",
    "    plt.plot(record)\n",
    "    print(supp)\n",
    "    \n",
    "    print(end_ - start)"
   ]
  },
  {
   "cell_type": "code",
   "execution_count": 1347,
   "metadata": {},
   "outputs": [
    {
     "name": "stdout",
     "output_type": "stream",
     "text": [
      "3\n",
      "2\n",
      "1\n",
      "Tienes 1.0 segundos...\n",
      "Analizando...\n",
      "[[ 0.17613782  0.05044239  0.00621546  0.56642419  0.20078018]]\n",
      "[[ 0.  0.  0.  1.  0.]]\n",
      "0.743865966796875\n"
     ]
    },
    {
     "data": {
      "image/png": "[encoded data removed]",
      "text/plain": [
       "<matplotlib.figure.Figure at 0x1c89a1da0>"
      ]
     },
     "metadata": {},
     "output_type": "display_data"
    }
   ],
   "source": [
    "predict_vowel()"
   ]
  },
  {
   "cell_type": "code",
   "execution_count": 1311,
   "metadata": {},
   "outputs": [
    {
     "data": {
      "text/plain": [
       "(40, 4)"
      ]
     },
     "execution_count": 1311,
     "metadata": {},
     "output_type": "execute_result"
    }
   ],
   "source": [
    "X_train.shape"
   ]
  },
  {
   "cell_type": "code",
   "execution_count": null,
   "metadata": {},
   "outputs": [],
   "source": []
  }
 ],
 "metadata": {
  "kernelspec": {
   "display_name": "Python 3",
   "language": "python",
   "name": "python3"
  },
  "language_info": {
   "codemirror_mode": {
    "name": "ipython",
    "version": 3
   },
   "file_extension": ".py",
   "mimetype": "text/x-python",
   "name": "python",
   "nbconvert_exporter": "python",
   "pygments_lexer": "ipython3",
   "version": "3.6.5"
  }
 },
 "nbformat": 4,
 "nbformat_minor": 2
}
